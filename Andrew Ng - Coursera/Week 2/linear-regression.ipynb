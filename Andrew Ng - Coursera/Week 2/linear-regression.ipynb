{
 "cells": [
  {
   "cell_type": "code",
   "execution_count": null,
   "metadata": {
    "collapsed": true
   },
   "outputs": [],
   "source": [
    "using PyPlot"
   ]
  },
  {
   "cell_type": "code",
   "execution_count": null,
   "metadata": {
    "collapsed": true
   },
   "outputs": [],
   "source": [
    "function gradient(θ, X, y)\n",
    "    # Calculate the cost function\n",
    "    J = 1/(2*size(y,1)) * (X * θ - y)' * (X * θ - y)\n",
    "    # Calculate the gradient\n",
    "    ∇ = X' * (X * θ - y)\n",
    "    return J, ∇\n",
    "end"
   ]
  },
  {
   "cell_type": "code",
   "execution_count": null,
   "metadata": {
    "collapsed": true
   },
   "outputs": [],
   "source": [
    "function gradientDescent(X, y, iter, α)\n",
    "    # Initialize your parameters\n",
    "    θ = zeros(size(X, 2))\n",
    "    # Vector that will store the cost values throughout for plotting\n",
    "    errors = zeros(iter, 1)\n",
    "    # Training loop\n",
    "    for i = 1:iter\n",
    "        (J, ∇) = gradient(θ, X, y)\n",
    "        errors[i] = J\n",
    "        # The actual important step\n",
    "        θ = θ - α*∇\n",
    "    end\n",
    "    # Comment line below when showing line of best fit\n",
    "    plot(errors)\n",
    "    return θ\n",
    "end"
   ]
  },
  {
   "cell_type": "code",
   "execution_count": null,
   "metadata": {
    "collapsed": true
   },
   "outputs": [],
   "source": [
    "# Don't have to understand this\n",
    "function featureNormalize(X)\n",
    "    X_norm = X;\n",
    "    mu = zeros(1, size(X, 2));\n",
    "    sigma = zeros(1, size(X, 2));\n",
    "    for i = 1:size(X,2)\n",
    "        mu[i] = mean(X[:,i]);\n",
    "        sigma[i] = std(X[:,i]);\n",
    "        X_norm[:,i] = (X[:,i] - mu[i])/sigma[i];\n",
    "    end\n",
    "    return X_norm\n",
    "end"
   ]
  },
  {
   "cell_type": "code",
   "execution_count": null,
   "metadata": {
    "collapsed": true
   },
   "outputs": [],
   "source": [
    "# Read data (change to \"ex1data2\" when using the second dataset)\n",
    "data = readcsv(\"ex1data1.txt\")\n",
    "\n",
    "# Version 1\n",
    "X = hcat(ones(size(data, 1)), (data[:, 1:end-1]))\n",
    "\n",
    "# Uncomment line below for data2, comment line above\n",
    "# X = hcat(ones(size(data, 1)), featureNormalize(data[:, 1:end-1]))\n",
    "\n",
    "y = data[:, end]\n",
    "θ = descend(X, y, 50, 0.01)\n",
    "\n",
    "# Good values:\n",
    "    # data1: iter = 1500, α = 0.0001\n",
    "    # data2 : iter = 1500, α = 0.01\n",
    "\n",
    "# Uncomment lines below to show line of best fit\n",
    "# scatter(data[:, 1], data[:, 2]);\n",
    "# x = 5:0.1:25; y = θ[2] * x + θ[1]\n",
    "# plot(x, y)"
   ]
  }
 ],
 "metadata": {
  "kernelspec": {
   "display_name": "Julia 0.6.0",
   "language": "julia",
   "name": "julia-0.6"
  },
  "language_info": {
   "file_extension": ".jl",
   "mimetype": "application/julia",
   "name": "julia",
   "version": "0.6.0"
  }
 },
 "nbformat": 4,
 "nbformat_minor": 2
}
